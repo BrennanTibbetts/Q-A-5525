{
 "cells": [
  {
   "cell_type": "markdown",
   "metadata": {},
   "source": [
    "# Imports"
   ]
  },
  {
   "cell_type": "code",
   "execution_count": 43,
   "metadata": {
    "ExecuteTime": {
     "end_time": "2024-03-27T13:54:24.783153Z",
     "start_time": "2024-03-27T13:54:14.848935Z"
    }
   },
   "outputs": [
    {
     "name": "stderr",
     "output_type": "stream",
     "text": [
      "[nltk_data] Downloading package wordnet to C:\\Users\\Will\n",
      "[nltk_data]     Blanton\\AppData\\Roaming\\nltk_data...\n",
      "[nltk_data]   Package wordnet is already up-to-date!\n"
     ]
    }
   ],
   "source": [
    "import matplotlib.pyplot as plt\n",
    "import nltk\n",
    "nltk.download('wordnet')\n",
    "import pandas as pd\n",
    "import sys\n",
    "sys.path.append('../')\n",
    "\n",
    "from nltk.translate.meteor_score import meteor_score\n",
    "from nltk.tokenize import word_tokenize\n",
    "from qa_evaluation import QA_Evaluator\n",
    "from question_gen_en import QuestionGenerator"
   ]
  },
  {
   "cell_type": "markdown",
   "metadata": {},
   "source": [
    "# Helper Functions"
   ]
  },
  {
   "cell_type": "code",
   "execution_count": 2,
   "metadata": {
    "ExecuteTime": {
     "end_time": "2024-03-27T13:54:29.917925Z",
     "start_time": "2024-03-27T13:54:29.908111Z"
    }
   },
   "outputs": [],
   "source": [
    "def readable_print(text):\n",
    "    # Replace each period with a period followed by a newline character\n",
    "    modified_text = text.replace('. ', '.\\n')\n",
    "    print(modified_text)\n",
    "\n",
    "def meteor_comparison(generated_questions: list[str], dataset_questions: list[str]):\n",
    "    \"\"\"\n",
    "    Compare the generated questions with the dataset questions using METEOR score\n",
    "    \"\"\"\n",
    "\n",
    "    scores = []\n",
    "    for gq in generated_questions:\n",
    "        generated_question = word_tokenize(gq.lower())\n",
    "\n",
    "        # tokenize the questions from the dataset\n",
    "        ref_questions = [word_tokenize(ref_q.lower()) for ref_q in dataset_questions]\n",
    "\n",
    "        score = meteor_score(ref_questions, generated_question)\n",
    "\n",
    "        score = score if score >= .00001 else 0\n",
    "\n",
    "        scores.append(score)\n",
    "\n",
    "\n",
    "    average_score = sum(scores) / len(scores)\n",
    "    return average_score"
   ]
  },
  {
   "cell_type": "markdown",
   "metadata": {
    "collapsed": false
   },
   "source": [
    "\n",
    "# Get Questions"
   ]
  },
  {
   "cell_type": "code",
   "execution_count": 3,
   "metadata": {
    "ExecuteTime": {
     "end_time": "2024-03-27T13:54:30.120182Z",
     "start_time": "2024-03-27T13:54:29.917925Z"
    }
   },
   "outputs": [],
   "source": [
    "articles = pd.read_json(\"../data/xquad.en.json\")\n",
    "\n",
    "articles = [a for a in articles[\"data\"]]"
   ]
  },
  {
   "cell_type": "code",
   "execution_count": 4,
   "metadata": {
    "ExecuteTime": {
     "end_time": "2024-03-27T13:54:30.121188Z",
     "start_time": "2024-03-27T13:54:30.101054Z"
    }
   },
   "outputs": [
    {
     "data": {
      "text/plain": [
       "[('How many points did the Panthers defense surrender?', '308'),\n",
       " ('How many career sacks did Jared Allen have?', '136'),\n",
       " ('How many tackles did Luke Kuechly register?', '118'),\n",
       " ('How many balls did Josh Norman intercept?', 'four'),\n",
       " ('Who registered the most sacks on the team this season?', 'Kawann Short'),\n",
       " ('How many interceptions are the Panthers defense credited with in 2015?',\n",
       "  '24'),\n",
       " ('Who led the Panthers in sacks?', 'Kawann Short'),\n",
       " ('How many Panthers defense players were selected for the Pro Bowl?', 'four'),\n",
       " ('How many forced fumbles did Thomas Davis have?', 'four'),\n",
       " ('Which player had the most interceptions for the season?', 'Kurt Coleman'),\n",
       " (\"How many 2015 season interceptions did the Panthers' defense get?\", '24'),\n",
       " ('Who had five sacks in nine games as a Carolina Panthers starter?',\n",
       "  'Kony Ealy'),\n",
       " (\"Who was the Panthers' tackle leader for 2015?\", 'Luke Kuechly.'),\n",
       " ('How many interceptions did Josh Norman score touchdowns with in 2015?',\n",
       "  'two.')]"
      ]
     },
     "execution_count": 4,
     "metadata": {},
     "output_type": "execute_result"
    }
   ],
   "source": [
    "# crete a list of tuples, each tuple contains the title, context and question\n",
    "\n",
    "cq_pairs = {}\n",
    "for a in articles:\n",
    "    title = a[\"title\"]\n",
    "    for p in a[\"paragraphs\"]:\n",
    "        context = p[\"context\"]\n",
    "        cq_pairs[context] = [(qas[\"question\"], qas[\"answers\"][0][\"text\"])for qas in p[\"qas\"]]   \n",
    "            \n",
    "cq_pairs[list(cq_pairs.keys())[0]]"
   ]
  },
  {
   "cell_type": "code",
   "execution_count": 5,
   "metadata": {
    "ExecuteTime": {
     "end_time": "2024-03-27T13:54:30.122196Z",
     "start_time": "2024-03-27T13:54:30.104978Z"
    }
   },
   "outputs": [
    {
     "data": {
      "text/plain": [
       "240"
      ]
     },
     "execution_count": 5,
     "metadata": {},
     "output_type": "execute_result"
    }
   ],
   "source": [
    "len(cq_pairs)"
   ]
  },
  {
   "cell_type": "markdown",
   "metadata": {},
   "source": [
    "# Test Models for Question Generation"
   ]
  },
  {
   "cell_type": "code",
   "execution_count": 6,
   "metadata": {
    "ExecuteTime": {
     "end_time": "2024-03-27T13:54:30.122196Z",
     "start_time": "2024-03-27T13:54:30.109278Z"
    }
   },
   "outputs": [
    {
     "name": "stdout",
     "output_type": "stream",
     "text": [
      "The Panthers defense gave up just 308 points, ranking sixth in the league, while also leading the NFL in interceptions with 24 and boasting four Pro Bowl selections.\n",
      "Pro Bowl defensive tackle Kawann Short led the team in sacks with 11, while also forcing three fumbles and recovering two.\n",
      "Fellow lineman Mario Addison added 6½ sacks.\n",
      "The Panthers line also featured veteran defensive end Jared Allen, a 5-time pro bowler who was the NFL's active career sack leader with 136, along with defensive end Kony Ealy, who had 5 sacks in just 9 starts.\n",
      "Behind them, two of the Panthers three starting linebackers were also selected to play in the Pro Bowl: Thomas Davis and Luke Kuechly.\n",
      "Davis compiled 5½ sacks, four forced fumbles, and four interceptions, while Kuechly led the team in tackles (118) forced two fumbles, and intercepted four passes of his own.\n",
      "Carolina's secondary featured Pro Bowl safety Kurt Coleman, who led the team with a career high seven interceptions, while also racking up 88 tackles and Pro Bowl cornerback Josh Norman, who developed into a shutdown corner during the season and had four interceptions, two of which were returned for touchdowns.\n"
     ]
    }
   ],
   "source": [
    "context = list(cq_pairs.keys())[0]\n",
    "readable_print(context)"
   ]
  },
  {
   "cell_type": "code",
   "execution_count": 7,
   "metadata": {
    "ExecuteTime": {
     "end_time": "2024-03-27T13:54:36.508465Z",
     "start_time": "2024-03-27T13:54:30.115865Z"
    }
   },
   "outputs": [
    {
     "name": "stderr",
     "output_type": "stream",
     "text": [
      "The `xla_device` argument has been deprecated in v4.4.0 of Transformers. It is ignored and you can safely remove it from your `config.json` file.\n",
      "The `xla_device` argument has been deprecated in v4.4.0 of Transformers. It is ignored and you can safely remove it from your `config.json` file.\n",
      "You are using the default legacy behaviour of the <class 'transformers.models.t5.tokenization_t5.T5Tokenizer'>. This is expected, and simply means that the `legacy` (previous) behavior will be used so nothing changes for you. If you want to use the new behaviour, set `legacy=False`. This should only be set if you understand what it means, and thoroughly read the reason why this was added as explained in https://github.com/huggingface/transformers/pull/24565\n",
      "The `xla_device` argument has been deprecated in v4.4.0 of Transformers. It is ignored and you can safely remove it from your `config.json` file.\n",
      "The `xla_device` argument has been deprecated in v4.4.0 of Transformers. It is ignored and you can safely remove it from your `config.json` file.\n"
     ]
    }
   ],
   "source": [
    "# generate questions\n",
    "q_gen = QuestionGenerator()"
   ]
  },
  {
   "cell_type": "code",
   "execution_count": 8,
   "metadata": {
    "ExecuteTime": {
     "end_time": "2024-03-27T13:55:10.001252Z",
     "start_time": "2024-03-27T13:55:09.974761Z"
    },
    "collapsed": false
   },
   "outputs": [
    {
     "data": {
      "text/plain": [
       "[('How many points did the Panthers defense surrender?', '308'),\n",
       " ('How many career sacks did Jared Allen have?', '136'),\n",
       " ('How many tackles did Luke Kuechly register?', '118'),\n",
       " ('How many balls did Josh Norman intercept?', 'four'),\n",
       " ('Who registered the most sacks on the team this season?', 'Kawann Short'),\n",
       " ('How many interceptions are the Panthers defense credited with in 2015?',\n",
       "  '24'),\n",
       " ('Who led the Panthers in sacks?', 'Kawann Short'),\n",
       " ('How many Panthers defense players were selected for the Pro Bowl?', 'four'),\n",
       " ('How many forced fumbles did Thomas Davis have?', 'four'),\n",
       " ('Which player had the most interceptions for the season?', 'Kurt Coleman'),\n",
       " (\"How many 2015 season interceptions did the Panthers' defense get?\", '24'),\n",
       " ('Who had five sacks in nine games as a Carolina Panthers starter?',\n",
       "  'Kony Ealy'),\n",
       " (\"Who was the Panthers' tackle leader for 2015?\", 'Luke Kuechly.'),\n",
       " ('How many interceptions did Josh Norman score touchdowns with in 2015?',\n",
       "  'two.')]"
      ]
     },
     "execution_count": 8,
     "metadata": {},
     "output_type": "execute_result"
    }
   ],
   "source": [
    "# dataset questions\n",
    "cq_pairs[context]"
   ]
  },
  {
   "cell_type": "code",
   "execution_count": 9,
   "metadata": {},
   "outputs": [
    {
     "data": {
      "text/plain": [
       "('How many points did the Panthers defense surrender?', '308')"
      ]
     },
     "execution_count": 9,
     "metadata": {},
     "output_type": "execute_result"
    }
   ],
   "source": [
    "example_qa = cq_pairs[context][0]\n",
    "example_qa"
   ]
  },
  {
   "cell_type": "code",
   "execution_count": 10,
   "metadata": {},
   "outputs": [
    {
     "data": {
      "text/plain": [
       "'How many points did the Panthers defense give up?'"
      ]
     },
     "execution_count": 10,
     "metadata": {},
     "output_type": "execute_result"
    }
   ],
   "source": [
    "gen_q = q_gen.generate_question(\n",
    "    answer=example_qa[1],\n",
    "    context=context)\n",
    "gen_q"
   ]
  },
  {
   "cell_type": "code",
   "execution_count": 11,
   "metadata": {},
   "outputs": [],
   "source": [
    "evaluator = QA_Evaluator()"
   ]
  },
  {
   "cell_type": "code",
   "execution_count": 12,
   "metadata": {},
   "outputs": [
    {
     "data": {
      "text/plain": [
       "'308'"
      ]
     },
     "execution_count": 12,
     "metadata": {},
     "output_type": "execute_result"
    }
   ],
   "source": [
    "evaluator.answer_question(context, gen_q)"
   ]
  },
  {
   "cell_type": "code",
   "execution_count": 13,
   "metadata": {
    "ExecuteTime": {
     "end_time": "2024-03-27T13:28:23.893746Z",
     "start_time": "2024-03-27T13:24:15.600721Z"
    }
   },
   "outputs": [
    {
     "name": "stderr",
     "output_type": "stream",
     "text": [
      "Token indices sequence length is longer than the specified maximum sequence length for this model (667 > 512). Running this sequence through the model will result in indexing errors\n"
     ]
    }
   ],
   "source": [
    "import random\n",
    "score_dfs = []\n",
    "\n",
    "eval_pairs = list(cq_pairs.items())\n",
    "#eval_pairs = random.sample(list(cq_pairs.items()), 4)\n",
    "\n",
    "# for each context and answer, generate a question and evaluate it\n",
    "for context, qas in eval_pairs:\n",
    "    for question, answer in qas:\n",
    "\n",
    "        # evaluation metrics to save\n",
    "        generated_q = q_gen.generate_question(answer, context)\n",
    "        meteor_q = meteor_comparison([generated_q], [question])\n",
    "        similarity = evaluator.calculate_similarity(generated_q, question)\n",
    "\n",
    "        # answer the generated question as part of question evaluation\n",
    "        generated_a, answer_similarity = evaluator.evaluate_qa_pair(context, generated_q, answer)\n",
    "        meteor_a = meteor_comparison([generated_a], [answer])\n",
    "\n",
    "        df = pd.DataFrame({\n",
    "            \"context\": [context],\n",
    "            \"answer\": [answer],\n",
    "            \"target_q\": [question],\n",
    "            \"generated_q\": [generated_q],\n",
    "            \"generated_q_answer\": [generated_a],\n",
    "            \"exact_match\": [int(generated_a.lower() == answer.lower())],\n",
    "            \"q_METEOR_score\": [meteor_q],\n",
    "            \"a_METEOR_score\": [meteor_a],\n",
    "            \"question_similarity\": [similarity],\n",
    "            \"answer_similarity\": [answer_similarity]\n",
    "        })\n",
    "\n",
    "    score_dfs.append(df)\n",
    "\n",
    "score_df = pd.concat(score_dfs, axis=0)"
   ]
  },
  {
   "cell_type": "code",
   "execution_count": 28,
   "metadata": {
    "ExecuteTime": {
     "end_time": "2024-03-27T13:44:26.145103Z",
     "start_time": "2024-03-27T13:44:26.122377Z"
    },
    "collapsed": false
   },
   "outputs": [
    {
     "data": {
      "text/html": [
       "<div>\n",
       "<style scoped>\n",
       "    .dataframe tbody tr th:only-of-type {\n",
       "        vertical-align: middle;\n",
       "    }\n",
       "\n",
       "    .dataframe tbody tr th {\n",
       "        vertical-align: top;\n",
       "    }\n",
       "\n",
       "    .dataframe thead th {\n",
       "        text-align: right;\n",
       "    }\n",
       "</style>\n",
       "<table border=\"1\" class=\"dataframe\">\n",
       "  <thead>\n",
       "    <tr style=\"text-align: right;\">\n",
       "      <th></th>\n",
       "      <th>context</th>\n",
       "      <th>answer</th>\n",
       "      <th>target_q</th>\n",
       "      <th>generated_q</th>\n",
       "      <th>generated_q_answer</th>\n",
       "      <th>exact_match</th>\n",
       "      <th>q_METEOR_score</th>\n",
       "      <th>a_METEOR_score</th>\n",
       "      <th>question_similarity</th>\n",
       "      <th>answer_similarity</th>\n",
       "    </tr>\n",
       "  </thead>\n",
       "  <tbody>\n",
       "    <tr>\n",
       "      <th>0</th>\n",
       "      <td>The Panthers defense gave up just 308 points, ...</td>\n",
       "      <td>two.</td>\n",
       "      <td>How many interceptions did Josh Norman score t...</td>\n",
       "      <td>How many fumbles did Luke Kuechly recover?</td>\n",
       "      <td>Two</td>\n",
       "      <td>0</td>\n",
       "      <td>0.272091</td>\n",
       "      <td>0.263158</td>\n",
       "      <td>0.665323</td>\n",
       "      <td>0.891036</td>\n",
       "    </tr>\n",
       "    <tr>\n",
       "      <th>1</th>\n",
       "      <td>The Broncos defeated the Pittsburgh Steelers i...</td>\n",
       "      <td>17</td>\n",
       "      <td>How many seconds were left in the game when th...</td>\n",
       "      <td>How many seconds were left on the clock for th...</td>\n",
       "      <td>17 seconds</td>\n",
       "      <td>0</td>\n",
       "      <td>0.507926</td>\n",
       "      <td>0.454545</td>\n",
       "      <td>0.721869</td>\n",
       "      <td>0.564223</td>\n",
       "    </tr>\n",
       "    <tr>\n",
       "      <th>2</th>\n",
       "      <td>Peyton Manning became the first quarterback ev...</td>\n",
       "      <td>John Elway</td>\n",
       "      <td>What is the name of the quarterback who was 38...</td>\n",
       "      <td>Who was the oldest quarterback to play in a Su...</td>\n",
       "      <td>Peyton Manning</td>\n",
       "      <td>0</td>\n",
       "      <td>0.429422</td>\n",
       "      <td>0.000000</td>\n",
       "      <td>0.864202</td>\n",
       "      <td>0.470613</td>\n",
       "    </tr>\n",
       "    <tr>\n",
       "      <th>3</th>\n",
       "      <td>Six-time Grammy winner and Academy Award nomin...</td>\n",
       "      <td>Marlee Matlin</td>\n",
       "      <td>Who did the sign language of the National Anth...</td>\n",
       "      <td>Who provided the translation of the American S...</td>\n",
       "      <td>Marlee Matlin</td>\n",
       "      <td>1</td>\n",
       "      <td>0.420918</td>\n",
       "      <td>0.937500</td>\n",
       "      <td>0.575758</td>\n",
       "      <td>1.000000</td>\n",
       "    </tr>\n",
       "    <tr>\n",
       "      <th>4</th>\n",
       "      <td>With 4:51 left in regulation, Carolina got the...</td>\n",
       "      <td>Anderson</td>\n",
       "      <td>What is the last name of the player who scored...</td>\n",
       "      <td>Who scored a touchdown on a 2-yard run?</td>\n",
       "      <td>Anderson</td>\n",
       "      <td>1</td>\n",
       "      <td>0.298895</td>\n",
       "      <td>0.500000</td>\n",
       "      <td>0.858088</td>\n",
       "      <td>1.000000</td>\n",
       "    </tr>\n",
       "    <tr>\n",
       "      <th>5</th>\n",
       "      <td>Nearby, in Ogród Saski (the Saxon Garden), the...</td>\n",
       "      <td>Wojciech Bogusławski Theatre</td>\n",
       "      <td>What theatre was the best example of \"Polish m...</td>\n",
       "      <td>What was the best example of \"Polish monumenta...</td>\n",
       "      <td>Wojciech Bogusawski Theatre</td>\n",
       "      <td>0</td>\n",
       "      <td>0.928079</td>\n",
       "      <td>0.333333</td>\n",
       "      <td>0.980601</td>\n",
       "      <td>0.872758</td>\n",
       "    </tr>\n",
       "    <tr>\n",
       "      <th>6</th>\n",
       "      <td>Their local rivals, Polonia Warsaw, have signi...</td>\n",
       "      <td>disastrous financial situation</td>\n",
       "      <td>Why was Polonia relegated from the country's t...</td>\n",
       "      <td>Why was Polonia relegated from the top flight ...</td>\n",
       "      <td>Their disastrous financial situation.</td>\n",
       "      <td>0</td>\n",
       "      <td>0.856792</td>\n",
       "      <td>0.920139</td>\n",
       "      <td>0.987370</td>\n",
       "      <td>0.802489</td>\n",
       "    </tr>\n",
       "    <tr>\n",
       "      <th>7</th>\n",
       "      <td>Throughout its existence, Warsaw has been a mu...</td>\n",
       "      <td>1944</td>\n",
       "      <td>When were most of the places of religious wors...</td>\n",
       "      <td>In what year did the Warsaw Uprising take place?</td>\n",
       "      <td>1944</td>\n",
       "      <td>1</td>\n",
       "      <td>0.196850</td>\n",
       "      <td>0.500000</td>\n",
       "      <td>0.594869</td>\n",
       "      <td>1.000000</td>\n",
       "    </tr>\n",
       "    <tr>\n",
       "      <th>8</th>\n",
       "      <td>The basic unit of territorial division in Pola...</td>\n",
       "      <td>Kraków</td>\n",
       "      <td>In what districts are the registration numbers...</td>\n",
       "      <td>What city does not have entitlements of powiat?</td>\n",
       "      <td>Kraków</td>\n",
       "      <td>1</td>\n",
       "      <td>0.104167</td>\n",
       "      <td>0.500000</td>\n",
       "      <td>0.235350</td>\n",
       "      <td>1.000000</td>\n",
       "    </tr>\n",
       "    <tr>\n",
       "      <th>9</th>\n",
       "      <td>Warsaw's first stock exchange was established ...</td>\n",
       "      <td>Polish United Workers' Party</td>\n",
       "      <td>Whose former headquarters was the WSE located ...</td>\n",
       "      <td>What political party was the headquarters of t...</td>\n",
       "      <td>Polish United Workers' Party (PZPR)</td>\n",
       "      <td>0</td>\n",
       "      <td>0.180180</td>\n",
       "      <td>0.939623</td>\n",
       "      <td>0.352981</td>\n",
       "      <td>0.881157</td>\n",
       "    </tr>\n",
       "  </tbody>\n",
       "</table>\n",
       "</div>"
      ],
      "text/plain": [
       "                                             context  \\\n",
       "0  The Panthers defense gave up just 308 points, ...   \n",
       "1  The Broncos defeated the Pittsburgh Steelers i...   \n",
       "2  Peyton Manning became the first quarterback ev...   \n",
       "3  Six-time Grammy winner and Academy Award nomin...   \n",
       "4  With 4:51 left in regulation, Carolina got the...   \n",
       "5  Nearby, in Ogród Saski (the Saxon Garden), the...   \n",
       "6  Their local rivals, Polonia Warsaw, have signi...   \n",
       "7  Throughout its existence, Warsaw has been a mu...   \n",
       "8  The basic unit of territorial division in Pola...   \n",
       "9  Warsaw's first stock exchange was established ...   \n",
       "\n",
       "                           answer  \\\n",
       "0                            two.   \n",
       "1                              17   \n",
       "2                      John Elway   \n",
       "3                   Marlee Matlin   \n",
       "4                        Anderson   \n",
       "5    Wojciech Bogusławski Theatre   \n",
       "6  disastrous financial situation   \n",
       "7                            1944   \n",
       "8                          Kraków   \n",
       "9    Polish United Workers' Party   \n",
       "\n",
       "                                            target_q  \\\n",
       "0  How many interceptions did Josh Norman score t...   \n",
       "1  How many seconds were left in the game when th...   \n",
       "2  What is the name of the quarterback who was 38...   \n",
       "3  Who did the sign language of the National Anth...   \n",
       "4  What is the last name of the player who scored...   \n",
       "5  What theatre was the best example of \"Polish m...   \n",
       "6  Why was Polonia relegated from the country's t...   \n",
       "7  When were most of the places of religious wors...   \n",
       "8  In what districts are the registration numbers...   \n",
       "9  Whose former headquarters was the WSE located ...   \n",
       "\n",
       "                                         generated_q  \\\n",
       "0         How many fumbles did Luke Kuechly recover?   \n",
       "1  How many seconds were left on the clock for th...   \n",
       "2  Who was the oldest quarterback to play in a Su...   \n",
       "3  Who provided the translation of the American S...   \n",
       "4            Who scored a touchdown on a 2-yard run?   \n",
       "5  What was the best example of \"Polish monumenta...   \n",
       "6  Why was Polonia relegated from the top flight ...   \n",
       "7   In what year did the Warsaw Uprising take place?   \n",
       "8    What city does not have entitlements of powiat?   \n",
       "9  What political party was the headquarters of t...   \n",
       "\n",
       "                      generated_q_answer  exact_match  q_METEOR_score  \\\n",
       "0                                    Two            0        0.272091   \n",
       "1                             17 seconds            0        0.507926   \n",
       "2                         Peyton Manning            0        0.429422   \n",
       "3                          Marlee Matlin            1        0.420918   \n",
       "4                               Anderson            1        0.298895   \n",
       "5            Wojciech Bogusawski Theatre            0        0.928079   \n",
       "6  Their disastrous financial situation.            0        0.856792   \n",
       "7                                   1944            1        0.196850   \n",
       "8                                 Kraków            1        0.104167   \n",
       "9    Polish United Workers' Party (PZPR)            0        0.180180   \n",
       "\n",
       "   a_METEOR_score  question_similarity  answer_similarity  \n",
       "0        0.263158             0.665323           0.891036  \n",
       "1        0.454545             0.721869           0.564223  \n",
       "2        0.000000             0.864202           0.470613  \n",
       "3        0.937500             0.575758           1.000000  \n",
       "4        0.500000             0.858088           1.000000  \n",
       "5        0.333333             0.980601           0.872758  \n",
       "6        0.920139             0.987370           0.802489  \n",
       "7        0.500000             0.594869           1.000000  \n",
       "8        0.500000             0.235350           1.000000  \n",
       "9        0.939623             0.352981           0.881157  "
      ]
     },
     "execution_count": 28,
     "metadata": {},
     "output_type": "execute_result"
    }
   ],
   "source": [
    "score_df.reset_index(drop=True, inplace=True)\n",
    "score_df.head(10)"
   ]
  },
  {
   "cell_type": "code",
   "execution_count": 29,
   "metadata": {},
   "outputs": [
    {
     "data": {
      "text/html": [
       "<div>\n",
       "<style scoped>\n",
       "    .dataframe tbody tr th:only-of-type {\n",
       "        vertical-align: middle;\n",
       "    }\n",
       "\n",
       "    .dataframe tbody tr th {\n",
       "        vertical-align: top;\n",
       "    }\n",
       "\n",
       "    .dataframe thead th {\n",
       "        text-align: right;\n",
       "    }\n",
       "</style>\n",
       "<table border=\"1\" class=\"dataframe\">\n",
       "  <thead>\n",
       "    <tr style=\"text-align: right;\">\n",
       "      <th></th>\n",
       "      <th>context</th>\n",
       "      <th>answer</th>\n",
       "      <th>target_q</th>\n",
       "      <th>generated_q</th>\n",
       "      <th>generated_q_answer</th>\n",
       "      <th>exact_match</th>\n",
       "      <th>q_METEOR_score</th>\n",
       "      <th>a_METEOR_score</th>\n",
       "      <th>question_similarity</th>\n",
       "      <th>answer_similarity</th>\n",
       "    </tr>\n",
       "  </thead>\n",
       "  <tbody>\n",
       "    <tr>\n",
       "      <th>0</th>\n",
       "      <td>The Panthers defense gave up just 308 points, ...</td>\n",
       "      <td>two.</td>\n",
       "      <td>How many interceptions did Josh Norman score t...</td>\n",
       "      <td>How many fumbles did Luke Kuechly recover?</td>\n",
       "      <td>Two</td>\n",
       "      <td>0</td>\n",
       "      <td>0.272091</td>\n",
       "      <td>0.263158</td>\n",
       "      <td>0.665323</td>\n",
       "      <td>0.891036</td>\n",
       "    </tr>\n",
       "    <tr>\n",
       "      <th>1</th>\n",
       "      <td>The Broncos defeated the Pittsburgh Steelers i...</td>\n",
       "      <td>17</td>\n",
       "      <td>How many seconds were left in the game when th...</td>\n",
       "      <td>How many seconds were left on the clock for th...</td>\n",
       "      <td>17 seconds</td>\n",
       "      <td>0</td>\n",
       "      <td>0.507926</td>\n",
       "      <td>0.454545</td>\n",
       "      <td>0.721869</td>\n",
       "      <td>0.564223</td>\n",
       "    </tr>\n",
       "    <tr>\n",
       "      <th>2</th>\n",
       "      <td>Peyton Manning became the first quarterback ev...</td>\n",
       "      <td>John Elway</td>\n",
       "      <td>What is the name of the quarterback who was 38...</td>\n",
       "      <td>Who was the oldest quarterback to play in a Su...</td>\n",
       "      <td>Peyton Manning</td>\n",
       "      <td>0</td>\n",
       "      <td>0.429422</td>\n",
       "      <td>0.000000</td>\n",
       "      <td>0.864202</td>\n",
       "      <td>0.470613</td>\n",
       "    </tr>\n",
       "    <tr>\n",
       "      <th>3</th>\n",
       "      <td>Six-time Grammy winner and Academy Award nomin...</td>\n",
       "      <td>Marlee Matlin</td>\n",
       "      <td>Who did the sign language of the National Anth...</td>\n",
       "      <td>Who provided the translation of the American S...</td>\n",
       "      <td>Marlee Matlin</td>\n",
       "      <td>1</td>\n",
       "      <td>0.420918</td>\n",
       "      <td>0.937500</td>\n",
       "      <td>0.575758</td>\n",
       "      <td>1.000000</td>\n",
       "    </tr>\n",
       "    <tr>\n",
       "      <th>4</th>\n",
       "      <td>With 4:51 left in regulation, Carolina got the...</td>\n",
       "      <td>Anderson</td>\n",
       "      <td>What is the last name of the player who scored...</td>\n",
       "      <td>Who scored a touchdown on a 2-yard run?</td>\n",
       "      <td>Anderson</td>\n",
       "      <td>1</td>\n",
       "      <td>0.298895</td>\n",
       "      <td>0.500000</td>\n",
       "      <td>0.858088</td>\n",
       "      <td>1.000000</td>\n",
       "    </tr>\n",
       "    <tr>\n",
       "      <th>...</th>\n",
       "      <td>...</td>\n",
       "      <td>...</td>\n",
       "      <td>...</td>\n",
       "      <td>...</td>\n",
       "      <td>...</td>\n",
       "      <td>...</td>\n",
       "      <td>...</td>\n",
       "      <td>...</td>\n",
       "      <td>...</td>\n",
       "      <td>...</td>\n",
       "    </tr>\n",
       "    <tr>\n",
       "      <th>235</th>\n",
       "      <td>Aristotle provided a philosophical discussion ...</td>\n",
       "      <td>unnatural</td>\n",
       "      <td>What did Aristotle refer to forced motion as?</td>\n",
       "      <td>What type of motion did Aristotle believe requ...</td>\n",
       "      <td>Unnatural or forced motion</td>\n",
       "      <td>0</td>\n",
       "      <td>0.453605</td>\n",
       "      <td>0.384615</td>\n",
       "      <td>0.831955</td>\n",
       "      <td>0.679035</td>\n",
       "    </tr>\n",
       "    <tr>\n",
       "      <th>236</th>\n",
       "      <td>The development of fundamental theories for fo...</td>\n",
       "      <td>self-consistent unification</td>\n",
       "      <td>What type of physics model did Einstein fail t...</td>\n",
       "      <td>What type of models are physicists trying to d...</td>\n",
       "      <td>self-consistent unification models</td>\n",
       "      <td>0</td>\n",
       "      <td>0.468909</td>\n",
       "      <td>0.892857</td>\n",
       "      <td>0.623114</td>\n",
       "      <td>0.937037</td>\n",
       "    </tr>\n",
       "    <tr>\n",
       "      <th>237</th>\n",
       "      <td>Since then, and so far, general relativity has...</td>\n",
       "      <td>global</td>\n",
       "      <td>In what sense must you be observing the curvat...</td>\n",
       "      <td>What sense of motion is required to observe th...</td>\n",
       "      <td>Global</td>\n",
       "      <td>1</td>\n",
       "      <td>0.730028</td>\n",
       "      <td>0.500000</td>\n",
       "      <td>0.839901</td>\n",
       "      <td>1.000000</td>\n",
       "    </tr>\n",
       "    <tr>\n",
       "      <th>238</th>\n",
       "      <td>Through combining the definition of electric c...</td>\n",
       "      <td>electrostatic force</td>\n",
       "      <td>Whatare the electrostatic and magnetic force a...</td>\n",
       "      <td>What is the force that acts on a charge due to...</td>\n",
       "      <td>The electrostatic force</td>\n",
       "      <td>0</td>\n",
       "      <td>0.162602</td>\n",
       "      <td>0.892857</td>\n",
       "      <td>0.570875</td>\n",
       "      <td>0.972408</td>\n",
       "    </tr>\n",
       "    <tr>\n",
       "      <th>239</th>\n",
       "      <td>where  is the relevant cross-sectional area fo...</td>\n",
       "      <td>formalism</td>\n",
       "      <td>What includes pressure terms when calculating ...</td>\n",
       "      <td>What includes pressure terms associated with f...</td>\n",
       "      <td>This formalism</td>\n",
       "      <td>0</td>\n",
       "      <td>0.535714</td>\n",
       "      <td>0.454545</td>\n",
       "      <td>0.642041</td>\n",
       "      <td>0.810191</td>\n",
       "    </tr>\n",
       "  </tbody>\n",
       "</table>\n",
       "<p>240 rows × 10 columns</p>\n",
       "</div>"
      ],
      "text/plain": [
       "                                               context  \\\n",
       "0    The Panthers defense gave up just 308 points, ...   \n",
       "1    The Broncos defeated the Pittsburgh Steelers i...   \n",
       "2    Peyton Manning became the first quarterback ev...   \n",
       "3    Six-time Grammy winner and Academy Award nomin...   \n",
       "4    With 4:51 left in regulation, Carolina got the...   \n",
       "..                                                 ...   \n",
       "235  Aristotle provided a philosophical discussion ...   \n",
       "236  The development of fundamental theories for fo...   \n",
       "237  Since then, and so far, general relativity has...   \n",
       "238  Through combining the definition of electric c...   \n",
       "239  where  is the relevant cross-sectional area fo...   \n",
       "\n",
       "                          answer  \\\n",
       "0                           two.   \n",
       "1                             17   \n",
       "2                     John Elway   \n",
       "3                  Marlee Matlin   \n",
       "4                       Anderson   \n",
       "..                           ...   \n",
       "235                    unnatural   \n",
       "236  self-consistent unification   \n",
       "237                       global   \n",
       "238          electrostatic force   \n",
       "239                    formalism   \n",
       "\n",
       "                                              target_q  \\\n",
       "0    How many interceptions did Josh Norman score t...   \n",
       "1    How many seconds were left in the game when th...   \n",
       "2    What is the name of the quarterback who was 38...   \n",
       "3    Who did the sign language of the National Anth...   \n",
       "4    What is the last name of the player who scored...   \n",
       "..                                                 ...   \n",
       "235      What did Aristotle refer to forced motion as?   \n",
       "236  What type of physics model did Einstein fail t...   \n",
       "237  In what sense must you be observing the curvat...   \n",
       "238  Whatare the electrostatic and magnetic force a...   \n",
       "239  What includes pressure terms when calculating ...   \n",
       "\n",
       "                                           generated_q  \\\n",
       "0           How many fumbles did Luke Kuechly recover?   \n",
       "1    How many seconds were left on the clock for th...   \n",
       "2    Who was the oldest quarterback to play in a Su...   \n",
       "3    Who provided the translation of the American S...   \n",
       "4              Who scored a touchdown on a 2-yard run?   \n",
       "..                                                 ...   \n",
       "235  What type of motion did Aristotle believe requ...   \n",
       "236  What type of models are physicists trying to d...   \n",
       "237  What sense of motion is required to observe th...   \n",
       "238  What is the force that acts on a charge due to...   \n",
       "239  What includes pressure terms associated with f...   \n",
       "\n",
       "                     generated_q_answer  exact_match  q_METEOR_score  \\\n",
       "0                                   Two            0        0.272091   \n",
       "1                            17 seconds            0        0.507926   \n",
       "2                        Peyton Manning            0        0.429422   \n",
       "3                         Marlee Matlin            1        0.420918   \n",
       "4                              Anderson            1        0.298895   \n",
       "..                                  ...          ...             ...   \n",
       "235          Unnatural or forced motion            0        0.453605   \n",
       "236  self-consistent unification models            0        0.468909   \n",
       "237                              Global            1        0.730028   \n",
       "238             The electrostatic force            0        0.162602   \n",
       "239                      This formalism            0        0.535714   \n",
       "\n",
       "     a_METEOR_score  question_similarity  answer_similarity  \n",
       "0          0.263158             0.665323           0.891036  \n",
       "1          0.454545             0.721869           0.564223  \n",
       "2          0.000000             0.864202           0.470613  \n",
       "3          0.937500             0.575758           1.000000  \n",
       "4          0.500000             0.858088           1.000000  \n",
       "..              ...                  ...                ...  \n",
       "235        0.384615             0.831955           0.679035  \n",
       "236        0.892857             0.623114           0.937037  \n",
       "237        0.500000             0.839901           1.000000  \n",
       "238        0.892857             0.570875           0.972408  \n",
       "239        0.454545             0.642041           0.810191  \n",
       "\n",
       "[240 rows x 10 columns]"
      ]
     },
     "execution_count": 29,
     "metadata": {},
     "output_type": "execute_result"
    }
   ],
   "source": [
    "score_df"
   ]
  },
  {
   "cell_type": "code",
   "execution_count": 16,
   "metadata": {
    "ExecuteTime": {
     "end_time": "2024-03-27T13:37:12.109404Z",
     "start_time": "2024-03-27T13:37:12.086785Z"
    },
    "collapsed": false
   },
   "outputs": [
    {
     "data": {
      "text/html": [
       "<div>\n",
       "<style scoped>\n",
       "    .dataframe tbody tr th:only-of-type {\n",
       "        vertical-align: middle;\n",
       "    }\n",
       "\n",
       "    .dataframe tbody tr th {\n",
       "        vertical-align: top;\n",
       "    }\n",
       "\n",
       "    .dataframe thead th {\n",
       "        text-align: right;\n",
       "    }\n",
       "</style>\n",
       "<table border=\"1\" class=\"dataframe\">\n",
       "  <thead>\n",
       "    <tr style=\"text-align: right;\">\n",
       "      <th></th>\n",
       "      <th>exact_match</th>\n",
       "      <th>q_METEOR_score</th>\n",
       "      <th>a_METEOR_score</th>\n",
       "      <th>question_similarity</th>\n",
       "      <th>answer_similarity</th>\n",
       "    </tr>\n",
       "  </thead>\n",
       "  <tbody>\n",
       "    <tr>\n",
       "      <th>count</th>\n",
       "      <td>240.000000</td>\n",
       "      <td>240.000000</td>\n",
       "      <td>240.000000</td>\n",
       "      <td>240.000000</td>\n",
       "      <td>240.000000</td>\n",
       "    </tr>\n",
       "    <tr>\n",
       "      <th>mean</th>\n",
       "      <td>0.516667</td>\n",
       "      <td>0.430163</td>\n",
       "      <td>0.640602</td>\n",
       "      <td>0.696079</td>\n",
       "      <td>0.833880</td>\n",
       "    </tr>\n",
       "    <tr>\n",
       "      <th>std</th>\n",
       "      <td>0.500766</td>\n",
       "      <td>0.259689</td>\n",
       "      <td>0.339651</td>\n",
       "      <td>0.218791</td>\n",
       "      <td>0.250456</td>\n",
       "    </tr>\n",
       "    <tr>\n",
       "      <th>min</th>\n",
       "      <td>0.000000</td>\n",
       "      <td>0.036496</td>\n",
       "      <td>0.000000</td>\n",
       "      <td>-0.048950</td>\n",
       "      <td>0.035780</td>\n",
       "    </tr>\n",
       "    <tr>\n",
       "      <th>25%</th>\n",
       "      <td>0.000000</td>\n",
       "      <td>0.198314</td>\n",
       "      <td>0.416667</td>\n",
       "      <td>0.585123</td>\n",
       "      <td>0.740451</td>\n",
       "    </tr>\n",
       "    <tr>\n",
       "      <th>50%</th>\n",
       "      <td>1.000000</td>\n",
       "      <td>0.403451</td>\n",
       "      <td>0.752493</td>\n",
       "      <td>0.724781</td>\n",
       "      <td>1.000000</td>\n",
       "    </tr>\n",
       "    <tr>\n",
       "      <th>75%</th>\n",
       "      <td>1.000000</td>\n",
       "      <td>0.573026</td>\n",
       "      <td>0.937500</td>\n",
       "      <td>0.867047</td>\n",
       "      <td>1.000000</td>\n",
       "    </tr>\n",
       "    <tr>\n",
       "      <th>max</th>\n",
       "      <td>1.000000</td>\n",
       "      <td>0.999500</td>\n",
       "      <td>0.999898</td>\n",
       "      <td>1.000000</td>\n",
       "      <td>1.000000</td>\n",
       "    </tr>\n",
       "  </tbody>\n",
       "</table>\n",
       "</div>"
      ],
      "text/plain": [
       "       exact_match  q_METEOR_score  a_METEOR_score  question_similarity  \\\n",
       "count   240.000000      240.000000      240.000000           240.000000   \n",
       "mean      0.516667        0.430163        0.640602             0.696079   \n",
       "std       0.500766        0.259689        0.339651             0.218791   \n",
       "min       0.000000        0.036496        0.000000            -0.048950   \n",
       "25%       0.000000        0.198314        0.416667             0.585123   \n",
       "50%       1.000000        0.403451        0.752493             0.724781   \n",
       "75%       1.000000        0.573026        0.937500             0.867047   \n",
       "max       1.000000        0.999500        0.999898             1.000000   \n",
       "\n",
       "       answer_similarity  \n",
       "count         240.000000  \n",
       "mean            0.833880  \n",
       "std             0.250456  \n",
       "min             0.035780  \n",
       "25%             0.740451  \n",
       "50%             1.000000  \n",
       "75%             1.000000  \n",
       "max             1.000000  "
      ]
     },
     "execution_count": 16,
     "metadata": {},
     "output_type": "execute_result"
    }
   ],
   "source": [
    "score_df.describe()"
   ]
  },
  {
   "cell_type": "code",
   "execution_count": 30,
   "metadata": {},
   "outputs": [
    {
     "data": {
      "text/plain": [
       "-0.04895007"
      ]
     },
     "execution_count": 30,
     "metadata": {},
     "output_type": "execute_result"
    }
   ],
   "source": [
    "worst_semantic = score_df.loc[score_df['question_similarity'].idxmin()]\n",
    "worst_semantic['question_similarity']"
   ]
  },
  {
   "cell_type": "code",
   "execution_count": 31,
   "metadata": {},
   "outputs": [
    {
     "name": "stdout",
     "output_type": "stream",
     "text": [
      " Seamans' establishment of an ad-hoc committee headed by his special technical assistant Nicholas E.\n",
      "Golovin in July 1961, to recommend a launch vehicle to be used in the Apollo program, represented a turning point in NASA's mission mode decision.\n",
      "This committee recognized that the chosen mode was an important part of the launch vehicle choice, and recommended in favor of a hybrid EOR-LOR mode.\n",
      "Its consideration of LOR —as well as Houbolt's ceaseless work— played an important role in publicizing the workability of the approach.\n",
      "In late 1961 and early 1962, members of the Manned Spacecraft Center began to come around to support LOR, including the newly hired deputy director of the Office of Manned Space Flight, Joseph Shea, who became a champion of LOR.\n",
      "The engineers at Marshall Space Flight Center (MSFC) took longer to become convinced of its merits, but their conversion was announced by Wernher von Braun at a briefing in June 1962.\n"
     ]
    }
   ],
   "source": [
    "readable_print(worst_semantic['context'])"
   ]
  },
  {
   "cell_type": "code",
   "execution_count": 32,
   "metadata": {},
   "outputs": [
    {
     "data": {
      "text/plain": [
       "'Which NASA location came around last to the idea of the LOR?'"
      ]
     },
     "execution_count": 32,
     "metadata": {},
     "output_type": "execute_result"
    }
   ],
   "source": [
    "worst_semantic['target_q']"
   ]
  },
  {
   "cell_type": "code",
   "execution_count": 33,
   "metadata": {},
   "outputs": [
    {
     "data": {
      "text/plain": [
       "'What is MSFC?'"
      ]
     },
     "execution_count": 33,
     "metadata": {},
     "output_type": "execute_result"
    }
   ],
   "source": [
    "worst_semantic['generated_q']"
   ]
  },
  {
   "cell_type": "code",
   "execution_count": 34,
   "metadata": {},
   "outputs": [
    {
     "data": {
      "text/plain": [
       "'Marshall Space Flight Center'"
      ]
     },
     "execution_count": 34,
     "metadata": {},
     "output_type": "execute_result"
    }
   ],
   "source": [
    "worst_semantic['answer']"
   ]
  },
  {
   "cell_type": "code",
   "execution_count": 35,
   "metadata": {},
   "outputs": [
    {
     "data": {
      "text/plain": [
       "'Marshall Space Flight Center'"
      ]
     },
     "execution_count": 35,
     "metadata": {},
     "output_type": "execute_result"
    }
   ],
   "source": [
    "worst_semantic['generated_q_answer']"
   ]
  },
  {
   "cell_type": "code",
   "execution_count": 36,
   "metadata": {
    "ExecuteTime": {
     "end_time": "2024-03-27T13:39:23.946757Z",
     "start_time": "2024-03-27T13:39:23.934999Z"
    },
    "collapsed": false
   },
   "outputs": [
    {
     "name": "stdout",
     "output_type": "stream",
     "text": [
      "Paleoclimatologists measure the ratio of oxygen-18 and oxygen-16 in the shells and skeletons of marine organisms to determine what the climate was like millions of years ago (see oxygen isotope ratio cycle).\n",
      "Seawater molecules that contain the lighter isotope, oxygen-16, evaporate at a slightly faster rate than water molecules containing the 12% heavier oxygen-18; this disparity increases at lower temperatures.\n",
      "During periods of lower global temperatures, snow and rain from that evaporated water tends to be higher in oxygen-16, and the seawater left behind tends to be higher in oxygen-18.\n",
      "Marine organisms then incorporate more oxygen-18 into their skeletons and shells than they would in a warmer climate.\n",
      "Paleoclimatologists also directly measure this ratio in the water molecules of ice core samples that are up to several hundreds of thousands of years old.\n"
     ]
    }
   ],
   "source": [
    "best_score = score_df.loc[score_df['q_METEOR_score'].idxmin()]\n",
    "readable_print(best_score['context'])"
   ]
  },
  {
   "cell_type": "code",
   "execution_count": 37,
   "metadata": {
    "ExecuteTime": {
     "end_time": "2024-03-27T13:39:42.172189Z",
     "start_time": "2024-03-27T13:39:42.146757Z"
    },
    "collapsed": false
   },
   "outputs": [
    {
     "data": {
      "text/plain": [
       "'When does the disparity between water molecules and oxygen-16 increase?'"
      ]
     },
     "execution_count": 37,
     "metadata": {},
     "output_type": "execute_result"
    }
   ],
   "source": [
    "best_score['generated_q']"
   ]
  },
  {
   "cell_type": "code",
   "execution_count": 38,
   "metadata": {
    "ExecuteTime": {
     "end_time": "2024-03-27T13:39:56.630018Z",
     "start_time": "2024-03-27T13:39:56.597264Z"
    },
    "collapsed": false
   },
   "outputs": [
    {
     "data": {
      "text/plain": [
       "'During what type of climate is oxygen 18 in seawater at higher levels?'"
      ]
     },
     "execution_count": 38,
     "metadata": {},
     "output_type": "execute_result"
    }
   ],
   "source": [
    "best_score['target_q']"
   ]
  },
  {
   "cell_type": "code",
   "execution_count": 39,
   "metadata": {
    "collapsed": false
   },
   "outputs": [
    {
     "data": {
      "text/plain": [
       "'lower global temperatures'"
      ]
     },
     "execution_count": 39,
     "metadata": {},
     "output_type": "execute_result"
    }
   ],
   "source": [
    "best_score['answer']"
   ]
  },
  {
   "cell_type": "code",
   "execution_count": 40,
   "metadata": {},
   "outputs": [
    {
     "data": {
      "text/plain": [
       "'At lower temperatures'"
      ]
     },
     "execution_count": 40,
     "metadata": {},
     "output_type": "execute_result"
    }
   ],
   "source": [
    "best_score['generated_q_answer']"
   ]
  },
  {
   "cell_type": "markdown",
   "metadata": {},
   "source": [
    "# Create plots"
   ]
  },
  {
   "cell_type": "code",
   "execution_count": 47,
   "metadata": {},
   "outputs": [
    {
     "data": {
      "text/plain": [
       "<Axes: title={'center': 'METEOR Score Distribution for Generated Questions'}, ylabel='Frequency'>"
      ]
     },
     "execution_count": 47,
     "metadata": {},
     "output_type": "execute_result"
    },
    {
     "data": {
      "image/png": "[encoded data removed]",
      "text/plain": [
       "<Figure size 640x480 with 1 Axes>"
      ]
     },
     "metadata": {},
     "output_type": "display_data"
    }
   ],
   "source": [
    "score_df[\"q_METEOR_score\"].plot.hist(edgecolor='black', title=\"METEOR Score Distribution for Generated Questions\")"
   ]
  },
  {
   "cell_type": "code",
   "execution_count": 48,
   "metadata": {},
   "outputs": [
    {
     "data": {
      "text/plain": [
       "<Axes: title={'center': 'Question Similarity Distribution for Generated Questions'}, ylabel='Frequency'>"
      ]
     },
     "execution_count": 48,
     "metadata": {},
     "output_type": "execute_result"
    },
    {
     "data": {
      "image/png": "[encoded data removed]",
      "text/plain": [
       "<Figure size 640x480 with 1 Axes>"
      ]
     },
     "metadata": {},
     "output_type": "display_data"
    }
   ],
   "source": [
    "score_df[\"question_similarity\"].plot.hist(edgecolor='black', title=\"Question Similarity Distribution for Generated Questions\")"
   ]
  },
  {
   "cell_type": "code",
   "execution_count": 49,
   "metadata": {},
   "outputs": [
    {
     "data": {
      "text/plain": [
       "<Axes: title={'center': 'METEOR Score Distribution for Generated Answers'}, ylabel='Frequency'>"
      ]
     },
     "execution_count": 49,
     "metadata": {},
     "output_type": "execute_result"
    },
    {
     "data": {
      "image/png": "[encoded data removed]",
      "text/plain": [
       "<Figure size 640x480 with 1 Axes>"
      ]
     },
     "metadata": {},
     "output_type": "display_data"
    }
   ],
   "source": [
    "score_df[\"a_METEOR_score\"].plot.hist(edgecolor='black', title=\"METEOR Score Distribution for Generated Answers\")"
   ]
  },
  {
   "cell_type": "code",
   "execution_count": null,
   "metadata": {},
   "outputs": [],
   "source": []
  }
 ],
 "metadata": {
  "kernelspec": {
   "display_name": "venv",
   "language": "python",
   "name": "python3"
  },
  "language_info": {
   "codemirror_mode": {
    "name": "ipython",
    "version": 3
   },
   "file_extension": ".py",
   "mimetype": "text/x-python",
   "name": "python",
   "nbconvert_exporter": "python",
   "pygments_lexer": "ipython3",
   "version": "3.11.7"
  }
 },
 "nbformat": 4,
 "nbformat_minor": 2
}
