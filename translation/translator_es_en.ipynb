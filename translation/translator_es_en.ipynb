{
 "cells": [
  {
   "cell_type": "code",
   "execution_count": 11,
   "metadata": {},
   "outputs": [],
   "source": [
    "import csv\n",
    "import json\n",
    "import nltk\n",
    "from nltk.translate.bleu_score import sentence_bleu\n",
    "from translator_es_en import Translator\n",
    "\n",
    "# Load the JSON files\n",
    "with open('../data/xquad.en.json', 'r', encoding='utf-8') as file:\n",
    "    data_en = json.load(file)\n",
    "\n",
    "with open('../data/xquad.es.json', 'r', encoding='utf-8') as file:\n",
    "    data_es = json.load(file)\n",
    "\n",
    "# Assuming both JSON files are structured similarly and contain a list of dictionaries\n",
    "# with 'context' and 'question' keys among others. Modify the keys based on your JSON structure.\n",
    "\n",
    "# Initialize your Translator\n",
    "translator = Translator(\"cpu\")\n",
    "\n",
    "# List to store BLEU scores\n",
    "bleu_scores = []\n",
    "\n",
    "# Open CSV file in append mode\n",
    "with open('bleu_scores.csv', 'a', newline='') as csvfile:\n",
    "  writer = csv.writer(csvfile)\n",
    "\n",
    "# Loop through the datasets\n",
    "for item_en, item_es in zip(data_en['data'], data_es['data']):\n",
    "    for paragraph_en, paragraph_es in zip(item_en['paragraphs'], item_es['paragraphs']):\n",
    "        # Extracting text; this assumes your JSON has these fields. Adjust if necessary.\n",
    "        source_text = paragraph_es['context']  # Spanish text\n",
    "        target_text = paragraph_en['context']  # English text\n",
    "\n",
    "        # Translate Spanish to English\n",
    "        translated_text = translator.translate(source_text)\n",
    "\n",
    "        # Compute the BLEU score\n",
    "        # NLTK expects a list of reference sentences, each as a list of tokens\n",
    "        # and the candidate sentence as a list of tokens\n",
    "        reference = [nltk.word_tokenize(target_text.lower())]\n",
    "        candidate = nltk.word_tokenize(translated_text.lower())\n",
    "        score = sentence_bleu(reference, candidate)\n",
    "        \n",
    "        # Write score to CSV on every iteration\n",
    "        with open('bleu_scores.csv', 'a', newline='') as csvfile:\n",
    "            writer = csv.writer(csvfile)\n",
    "            writer.writerow([score])\n",
    "\n",
    "# Print average BLEU score\n",
    "average_bleu = sum(bleu_scores) / len(bleu_scores)\n",
    "print(f'Average BLEU Score: {average_bleu}')\n"
   ]
  }
 ],
 "metadata": {
  "kernelspec": {
   "display_name": "Python 3",
   "language": "python",
   "name": "python3"
  },
  "language_info": {
   "codemirror_mode": {
    "name": "ipython",
    "version": 3
   },
   "file_extension": ".py",
   "mimetype": "text/x-python",
   "name": "python",
   "nbconvert_exporter": "python",
   "pygments_lexer": "ipython3",
   "version": "3.11.3"
  }
 },
 "nbformat": 4,
 "nbformat_minor": 2
}
